{
 "cells": [
  {
   "cell_type": "code",
   "execution_count": 15,
   "id": "233c85f3",
   "metadata": {
    "scrolled": false
   },
   "outputs": [
    {
     "name": "stdout",
     "output_type": "stream",
     "text": [
      "    ID         Area       City         Restaurant  Price  Avg ratings  \\\n",
      "0  211  Koramangala  Bangalore        Tandoor Hut  300.0          4.4   \n",
      "1  221  Koramangala  Bangalore      Tunday Kababi  300.0          4.1   \n",
      "2  246    Jogupalya  Bangalore            Kim Lee  650.0          4.4   \n",
      "3  248  Indiranagar  Bangalore  New Punjabi Hotel  250.0          3.9   \n",
      "4  249  Indiranagar  Bangalore                Nh8  350.0          4.0   \n",
      "\n",
      "   Total ratings                                          Food type  \\\n",
      "0            100          Biryani,Chinese,North Indian,South Indian   \n",
      "1            100                                   Mughlai,Lucknowi   \n",
      "2            100                                            Chinese   \n",
      "3            500               North Indian,Punjabi,Tandoor,Chinese   \n",
      "4             50  Rajasthani,Gujarati,North Indian,Snacks,Desser...   \n",
      "\n",
      "        Address  Delivery time  \n",
      "0     5Th Block             59  \n",
      "1     5Th Block             56  \n",
      "2   Double Road             50  \n",
      "3  80 Feet Road             57  \n",
      "4  80 Feet Road             63  \n"
     ]
    }
   ],
   "source": [
    "import pandas as pd\n",
    "\n",
    "# Replace 'your_file.csv' with the actual file path of your CSV file\n",
    "\n",
    "# Read the CSV file into a pandas DataFrame\n",
    "df = pd.read_csv('res.csv')\n",
    "\n",
    "# Now you can work with the 'data' DataFrame\n",
    "# For example, you can print the first few rows of the DataFrame\n",
    "print(data.head())"
   ]
  },
  {
   "cell_type": "code",
   "execution_count": 18,
   "id": "398f8221",
   "metadata": {},
   "outputs": [
    {
     "name": "stdout",
     "output_type": "stream",
     "text": [
      "          ID                    Area       City                Restaurant  \\\n",
      "0        211             Koramangala  Bangalore               Tandoor Hut   \n",
      "1        221             Koramangala  Bangalore             Tunday Kababi   \n",
      "2        246               Jogupalya  Bangalore                   Kim Lee   \n",
      "3        248             Indiranagar  Bangalore         New Punjabi Hotel   \n",
      "4        249             Indiranagar  Bangalore                       Nh8   \n",
      "...      ...                     ...        ...                       ...   \n",
      "8675  464626  Panjarapole Cross Road  Ahmedabad                Malt Pizza   \n",
      "8676  465835                  Rohini      Delhi  Jay Mata Ji Home Kitchen   \n",
      "8677  465872                  Rohini      Delhi      Chinese Kitchen King   \n",
      "8678  465990                  Rohini      Delhi    Shree Ram Paratha Wala   \n",
      "8679  466488             Navrangpura  Ahmedabad              Sassy Street   \n",
      "\n",
      "      Price  Avg ratings  Total ratings  \\\n",
      "0     300.0          4.4            100   \n",
      "1     300.0          4.1            100   \n",
      "2     650.0          4.4            100   \n",
      "3     250.0          3.9            500   \n",
      "4     350.0          4.0             50   \n",
      "...     ...          ...            ...   \n",
      "8675  500.0          2.9             80   \n",
      "8676  200.0          2.9             80   \n",
      "8677  150.0          2.9             80   \n",
      "8678  150.0          2.9             80   \n",
      "8679  250.0          2.9             80   \n",
      "\n",
      "                                              Food type       Address  \\\n",
      "0             Biryani,Chinese,North Indian,South Indian     5Th Block   \n",
      "1                                      Mughlai,Lucknowi     5Th Block   \n",
      "2                                               Chinese   Double Road   \n",
      "3                  North Indian,Punjabi,Tandoor,Chinese  80 Feet Road   \n",
      "4     Rajasthani,Gujarati,North Indian,Snacks,Desser...  80 Feet Road   \n",
      "...                                                 ...           ...   \n",
      "8675                                             Pizzas   Navrangpura   \n",
      "8676                                       South Indian        Rohini   \n",
      "8677                             Chinese,Snacks,Tandoor        Rohini   \n",
      "8678                         North Indian,Indian,Snacks        Rohini   \n",
      "8679                               Chaat,Snacks,Chinese   Navrangpura   \n",
      "\n",
      "      Delivery time  \n",
      "0                59  \n",
      "1                56  \n",
      "2                50  \n",
      "3                57  \n",
      "4                63  \n",
      "...             ...  \n",
      "8675             40  \n",
      "8676             28  \n",
      "8677             58  \n",
      "8678             28  \n",
      "8679             44  \n",
      "\n",
      "[8680 rows x 10 columns]\n"
     ]
    }
   ],
   "source": [
    "pd.set_option('display.max_rows',50)\n",
    "pd.set_option('display.max_column',None)\n",
    "print(data)"
   ]
  },
  {
   "cell_type": "code",
   "execution_count": 30,
   "id": "37c5cdff",
   "metadata": {},
   "outputs": [
    {
     "name": "stdout",
     "output_type": "stream",
     "text": [
      "          ID                    Area       City         Restaurant  Price  \\\n",
      "2        246               Jogupalya  Bangalore            Kim Lee  650.0   \n",
      "3        248             Indiranagar  Bangalore  New Punjabi Hotel  250.0   \n",
      "8675  464626  Panjarapole Cross Road  Ahmedabad         Malt Pizza  500.0   \n",
      "8679  466488             Navrangpura  Ahmedabad       Sassy Street  250.0   \n",
      "\n",
      "      Avg ratings  Total ratings                             Food type  \\\n",
      "2             4.4            100                               Chinese   \n",
      "3             3.9            500  North Indian,Punjabi,Tandoor,Chinese   \n",
      "8675          2.9             80                                Pizzas   \n",
      "8679          2.9             80                  Chaat,Snacks,Chinese   \n",
      "\n",
      "           Address  Delivery time  \n",
      "2      Double Road             50  \n",
      "3     80 Feet Road             57  \n",
      "8675   Navrangpura             40  \n",
      "8679   Navrangpura             44  \n"
     ]
    }
   ],
   "source": [
    "sp_id=[464626,246,248,466488]\n",
    "filtered_data=df[df['ID'].isin(sp_id)]\n",
    "print(filtered_data)"
   ]
  },
  {
   "cell_type": "code",
   "execution_count": 28,
   "id": "ef46f6dd",
   "metadata": {},
   "outputs": [
    {
     "name": "stdout",
     "output_type": "stream",
     "text": [
      "          ID                    Area     Restaurant                    Area  \\\n",
      "1        221             Koramangala  Tunday Kababi             Koramangala   \n",
      "4        249             Indiranagar            Nh8             Indiranagar   \n",
      "8675  464626  Panjarapole Cross Road     Malt Pizza  Panjarapole Cross Road   \n",
      "\n",
      "      Avg ratings  Total ratings  Delivery time  \n",
      "1             4.1            100             56  \n",
      "4             4.0             50             63  \n",
      "8675          2.9             80             40  \n"
     ]
    }
   ],
   "source": [
    "sp_col=['ID','Area','Restaurant','Area','Avg ratings','Total ratings','Delivery time']\n",
    "filtered_data=df[df['ID'].isin(sp_id)][sp_col]\n",
    "print(filtered_data)"
   ]
  },
  {
   "cell_type": "code",
   "execution_count": 24,
   "id": "3b4f7f56",
   "metadata": {},
   "outputs": [
    {
     "data": {
      "text/html": [
       "<div>\n",
       "<style scoped>\n",
       "    .dataframe tbody tr th:only-of-type {\n",
       "        vertical-align: middle;\n",
       "    }\n",
       "\n",
       "    .dataframe tbody tr th {\n",
       "        vertical-align: top;\n",
       "    }\n",
       "\n",
       "    .dataframe thead th {\n",
       "        text-align: right;\n",
       "    }\n",
       "</style>\n",
       "<table border=\"1\" class=\"dataframe\">\n",
       "  <thead>\n",
       "    <tr style=\"text-align: right;\">\n",
       "      <th></th>\n",
       "      <th>ID</th>\n",
       "      <th>Price</th>\n",
       "      <th>Avg ratings</th>\n",
       "      <th>Total ratings</th>\n",
       "      <th>Delivery time</th>\n",
       "    </tr>\n",
       "  </thead>\n",
       "  <tbody>\n",
       "    <tr>\n",
       "      <th>count</th>\n",
       "      <td>8680.000000</td>\n",
       "      <td>8680.000000</td>\n",
       "      <td>8680.000000</td>\n",
       "      <td>8680.000000</td>\n",
       "      <td>8680.000000</td>\n",
       "    </tr>\n",
       "    <tr>\n",
       "      <th>mean</th>\n",
       "      <td>244812.071429</td>\n",
       "      <td>348.444470</td>\n",
       "      <td>3.655104</td>\n",
       "      <td>156.634793</td>\n",
       "      <td>53.967051</td>\n",
       "    </tr>\n",
       "    <tr>\n",
       "      <th>std</th>\n",
       "      <td>158671.617188</td>\n",
       "      <td>230.940074</td>\n",
       "      <td>0.647629</td>\n",
       "      <td>391.448014</td>\n",
       "      <td>14.292335</td>\n",
       "    </tr>\n",
       "    <tr>\n",
       "      <th>min</th>\n",
       "      <td>211.000000</td>\n",
       "      <td>0.000000</td>\n",
       "      <td>2.000000</td>\n",
       "      <td>20.000000</td>\n",
       "      <td>20.000000</td>\n",
       "    </tr>\n",
       "    <tr>\n",
       "      <th>25%</th>\n",
       "      <td>72664.000000</td>\n",
       "      <td>200.000000</td>\n",
       "      <td>2.900000</td>\n",
       "      <td>50.000000</td>\n",
       "      <td>44.000000</td>\n",
       "    </tr>\n",
       "    <tr>\n",
       "      <th>50%</th>\n",
       "      <td>283442.000000</td>\n",
       "      <td>300.000000</td>\n",
       "      <td>3.900000</td>\n",
       "      <td>80.000000</td>\n",
       "      <td>53.000000</td>\n",
       "    </tr>\n",
       "    <tr>\n",
       "      <th>75%</th>\n",
       "      <td>393425.250000</td>\n",
       "      <td>400.000000</td>\n",
       "      <td>4.200000</td>\n",
       "      <td>100.000000</td>\n",
       "      <td>64.000000</td>\n",
       "    </tr>\n",
       "    <tr>\n",
       "      <th>max</th>\n",
       "      <td>466928.000000</td>\n",
       "      <td>2500.000000</td>\n",
       "      <td>5.000000</td>\n",
       "      <td>10000.000000</td>\n",
       "      <td>109.000000</td>\n",
       "    </tr>\n",
       "  </tbody>\n",
       "</table>\n",
       "</div>"
      ],
      "text/plain": [
       "                  ID        Price  Avg ratings  Total ratings  Delivery time\n",
       "count    8680.000000  8680.000000  8680.000000    8680.000000    8680.000000\n",
       "mean   244812.071429   348.444470     3.655104     156.634793      53.967051\n",
       "std    158671.617188   230.940074     0.647629     391.448014      14.292335\n",
       "min       211.000000     0.000000     2.000000      20.000000      20.000000\n",
       "25%     72664.000000   200.000000     2.900000      50.000000      44.000000\n",
       "50%    283442.000000   300.000000     3.900000      80.000000      53.000000\n",
       "75%    393425.250000   400.000000     4.200000     100.000000      64.000000\n",
       "max    466928.000000  2500.000000     5.000000   10000.000000     109.000000"
      ]
     },
     "execution_count": 24,
     "metadata": {},
     "output_type": "execute_result"
    }
   ],
   "source": [
    "df.describe()\n"
   ]
  },
  {
   "cell_type": "code",
   "execution_count": 33,
   "id": "82e39985",
   "metadata": {},
   "outputs": [
    {
     "ename": "AttributeError",
     "evalue": "'DataFrame' object has no attribute 'grouby'",
     "output_type": "error",
     "traceback": [
      "\u001b[1;31m---------------------------------------------------------------------------\u001b[0m",
      "\u001b[1;31mAttributeError\u001b[0m                            Traceback (most recent call last)",
      "Cell \u001b[1;32mIn[33], line 1\u001b[0m\n\u001b[1;32m----> 1\u001b[0m \u001b[43mdf\u001b[49m\u001b[38;5;241;43m.\u001b[39;49m\u001b[43mgrouby\u001b[49m(\u001b[38;5;124m'\u001b[39m\u001b[38;5;124mbanglore\u001b[39m\u001b[38;5;124m'\u001b[39m)\n",
      "File \u001b[1;32m~\\anaconda3\\lib\\site-packages\\pandas\\core\\generic.py:5902\u001b[0m, in \u001b[0;36mNDFrame.__getattr__\u001b[1;34m(self, name)\u001b[0m\n\u001b[0;32m   5895\u001b[0m \u001b[38;5;28;01mif\u001b[39;00m (\n\u001b[0;32m   5896\u001b[0m     name \u001b[38;5;129;01mnot\u001b[39;00m \u001b[38;5;129;01min\u001b[39;00m \u001b[38;5;28mself\u001b[39m\u001b[38;5;241m.\u001b[39m_internal_names_set\n\u001b[0;32m   5897\u001b[0m     \u001b[38;5;129;01mand\u001b[39;00m name \u001b[38;5;129;01mnot\u001b[39;00m \u001b[38;5;129;01min\u001b[39;00m \u001b[38;5;28mself\u001b[39m\u001b[38;5;241m.\u001b[39m_metadata\n\u001b[0;32m   5898\u001b[0m     \u001b[38;5;129;01mand\u001b[39;00m name \u001b[38;5;129;01mnot\u001b[39;00m \u001b[38;5;129;01min\u001b[39;00m \u001b[38;5;28mself\u001b[39m\u001b[38;5;241m.\u001b[39m_accessors\n\u001b[0;32m   5899\u001b[0m     \u001b[38;5;129;01mand\u001b[39;00m \u001b[38;5;28mself\u001b[39m\u001b[38;5;241m.\u001b[39m_info_axis\u001b[38;5;241m.\u001b[39m_can_hold_identifiers_and_holds_name(name)\n\u001b[0;32m   5900\u001b[0m ):\n\u001b[0;32m   5901\u001b[0m     \u001b[38;5;28;01mreturn\u001b[39;00m \u001b[38;5;28mself\u001b[39m[name]\n\u001b[1;32m-> 5902\u001b[0m \u001b[38;5;28;01mreturn\u001b[39;00m \u001b[38;5;28;43mobject\u001b[39;49m\u001b[38;5;241;43m.\u001b[39;49m\u001b[38;5;21;43m__getattribute__\u001b[39;49m\u001b[43m(\u001b[49m\u001b[38;5;28;43mself\u001b[39;49m\u001b[43m,\u001b[49m\u001b[43m \u001b[49m\u001b[43mname\u001b[49m\u001b[43m)\u001b[49m\n",
      "\u001b[1;31mAttributeError\u001b[0m: 'DataFrame' object has no attribute 'grouby'"
     ]
    }
   ],
   "source": []
  },
  {
   "cell_type": "code",
   "execution_count": null,
   "id": "6abd7ea8",
   "metadata": {},
   "outputs": [],
   "source": []
  }
 ],
 "metadata": {
  "kernelspec": {
   "display_name": "Python 3 (ipykernel)",
   "language": "python",
   "name": "python3"
  },
  "language_info": {
   "codemirror_mode": {
    "name": "ipython",
    "version": 3
   },
   "file_extension": ".py",
   "mimetype": "text/x-python",
   "name": "python",
   "nbconvert_exporter": "python",
   "pygments_lexer": "ipython3",
   "version": "3.10.9"
  }
 },
 "nbformat": 4,
 "nbformat_minor": 5
}
